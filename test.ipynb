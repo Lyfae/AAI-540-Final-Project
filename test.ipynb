{
 "cells": [
  {
   "cell_type": "code",
   "execution_count": null,
   "metadata": {},
   "outputs": [],
   "source": [
    "import pandas as pd\n",
    "from sklearn.model_selection import train_test_split\n",
    "\n",
    "new_df = pd.read_csv(\"Data/cleaned_data.csv\")\n",
    "\n",
    "# Define the features and the target\n",
    "X = new_df.drop('ValueofHome', axis=1)  # all columns except 'ValueofHome'\n",
    "y = new_df['ValueofHome']               # only the 'ValueofHome' column\n",
    "\n",
    "# Split the dataset into training and testing sets\n",
    "X_train, X_test, y_train, y_test = train_test_split(X, y, test_size=0.2, random_state=42)\n",
    "\n",
    "# Verify the splits\n",
    "print(\"Training dataset size:\", X_train.shape)\n",
    "print(\"Training labels size:\", y_train.shape)\n",
    "\n",
    "print(\"Testing dataset size:\", X_test.shape)\n",
    "print(\"Testing labels size:\", y_test.shape)\n"
   ]
  }
 ],
 "metadata": {
  "kernelspec": {
   "display_name": "base",
   "language": "python",
   "name": "python3"
  },
  "language_info": {
   "name": "python",
   "version": "3.11.5"
  }
 },
 "nbformat": 4,
 "nbformat_minor": 2
}
